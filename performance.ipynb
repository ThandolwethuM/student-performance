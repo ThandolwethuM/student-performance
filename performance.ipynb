{
 "cells": [
  {
   "cell_type": "markdown",
   "id": "ed9cb6a9-8640-4987-b2db-f2967cb7c62d",
   "metadata": {},
   "source": [
    "# STUDENT PERFORMANCE"
   ]
  },
  {
   "cell_type": "code",
   "execution_count": null,
   "id": "800ac252-8d3b-47d1-b295-5fdb58a711d2",
   "metadata": {},
   "outputs": [],
   "source": []
  }
 ],
 "metadata": {
  "kernelspec": {
   "display_name": "Python 3 (ipykernel)",
   "language": "python",
   "name": "python3"
  },
  "language_info": {
   "codemirror_mode": {
    "name": "ipython",
    "version": 3
   },
   "file_extension": ".py",
   "mimetype": "text/x-python",
   "name": "python",
   "nbconvert_exporter": "python",
   "pygments_lexer": "ipython3",
   "version": "3.11.4"
  }
 },
 "nbformat": 4,
 "nbformat_minor": 5
}
